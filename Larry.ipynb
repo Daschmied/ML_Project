{
 "cells": [
  {
   "cell_type": "code",
   "execution_count": 29,
   "metadata": {},
   "outputs": [
    {
     "name": "stdout",
     "output_type": "stream",
     "text": [
      "Not good person\n"
     ]
    }
   ],
   "source": [
    "# Final_Project\n",
    "# Douglas Schmieder\n",
    "# Alan Flores\n",
    "# Andrew Paek\n",
    "# TODO (by Alan): Based on most of the sentiment analyzers we searched through, NLTK (Natural Language Toolkit) is a commonly used\n",
    "package, they even have a neat how-to (http://www.nltk.org/howto/sentiment.html)\n",
    "\n",
    "chatFileG = \"testgood.txt\"\n",
    "chatFileB = \"testbad.txt\"\n",
    "\n",
    "\n",
    "badWords = list()\n",
    "goodWords = list()\n",
    "chatLog = {}\n",
    "\n",
    "posScore = 0\n",
    "negScore = 0\n",
    "\n",
    "def main():\n",
    "    build_data()\n",
    "    analyze_input()\n",
    "    determine()\n",
    "    \n",
    "def determine():\n",
    "    global posScore\n",
    "    global negScore\n",
    "    if posScore > negScore:\n",
    "        print(\"Good person\")\n",
    "    else:\n",
    "        print(\"Not good person\")\n",
    "    \n",
    "    \n",
    "def analyze_input():\n",
    "    global posScore\n",
    "    global negScore\n",
    "    fp = open(chatFileB)\n",
    "    num = 0\n",
    "    for i in fp:\n",
    "        tmpArray = i.split()\n",
    "        for j in tmpArray:\n",
    "            lj = j.lower()\n",
    "            if lj in chatLog:\n",
    "                chatLog[lj] += 1\n",
    "            else:\n",
    "                chatLog[lj] = 1\n",
    "\n",
    "    for i in goodWords:\n",
    "        if i in chatLog:\n",
    "            posScore += chatLog[i]\n",
    "    \n",
    "    for i in badWords:\n",
    "        if i in chatLog:\n",
    "            negScore += chatLog[i]\n",
    "            \n",
    "    #print(posScore)\n",
    "    #print(negScore)\n",
    "    \n",
    "def build_data():\n",
    "    \n",
    "    # Open Bad Words Text\n",
    "    fp = open(\"badwords.txt\")\n",
    "\n",
    "    for i in fp:\n",
    "        tmp = i.rstrip('\\n')\n",
    "        \n",
    "        if tmp:\n",
    "            badWords.append(tmp.lower())\n",
    "\n",
    "    fp.close()\n",
    "    \n",
    "    \n",
    "    # Open Good Words Text\n",
    "    fp = open(\"goodwords.txt\")\n",
    "    \n",
    "    for i in fp:\n",
    "        tmp = i.rstrip('\\n')\n",
    "        if tmp:\n",
    "            goodWords.append(tmp.lower())\n",
    "\n",
    "    fp.close()\n",
    "            \n",
    "if __name__ == \"__main__\":\n",
    "    main()\n",
    "\n"
   ]
  },
  {
   "cell_type": "code",
   "execution_count": null,
   "metadata": {
    "collapsed": true
   },
   "outputs": [],
   "source": []
  }
 ],
 "metadata": {
  "kernelspec": {
   "display_name": "Python 3",
   "language": "python",
   "name": "python3"
  },
  "language_info": {
   "codemirror_mode": {
    "name": "ipython",
    "version": 3
   },
   "file_extension": ".py",
   "mimetype": "text/x-python",
   "name": "python",
   "nbconvert_exporter": "python",
   "pygments_lexer": "ipython3",
   "version": "3.6.3"
  }
 },
 "nbformat": 4,
 "nbformat_minor": 2
}
